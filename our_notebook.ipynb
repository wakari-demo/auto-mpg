{
 "metadata": {
  "name": "our_notebook"
 },
 "nbformat": 3,
 "nbformat_minor": 0,
 "worksheets": [
  {
   "cells": [
    {
     "cell_type": "code",
     "collapsed": false,
     "input": [
      "\"test!\""
     ],
     "language": "python",
     "metadata": {},
     "outputs": [
      {
       "output_type": "pyout",
       "prompt_number": 1,
       "text": [
        "'test!'"
       ]
      }
     ],
     "prompt_number": 1
    },
    {
     "cell_type": "code",
     "collapsed": false,
     "input": [
      "data = open('auto-mpg.csv')"
     ],
     "language": "python",
     "metadata": {},
     "outputs": [],
     "prompt_number": 2
    },
    {
     "cell_type": "code",
     "collapsed": false,
     "input": [
      "import pandas as pd\n",
      "df = pd.DataFrame.from_csv(data, index_col=None)"
     ],
     "language": "python",
     "metadata": {},
     "outputs": [],
     "prompt_number": 3
    },
    {
     "cell_type": "code",
     "collapsed": false,
     "input": [
      "grouping = df.groupby('yr')\n",
      "x = grouping.groups.keys()\n",
      "y = grouping['mpg'].mean()"
     ],
     "language": "python",
     "metadata": {},
     "outputs": [],
     "prompt_number": 4
    },
    {
     "cell_type": "code",
     "collapsed": false,
     "input": [
      "plot(x,y)"
     ],
     "language": "python",
     "metadata": {},
     "outputs": [
      {
       "output_type": "pyout",
       "prompt_number": 5,
       "text": [
        "[<matplotlib.lines.Line2D at 0x4201610>]"
       ]
      },
      {
       "output_type": "display_data",
       "png": "[encoded data removed]",
       "text": [
        "<matplotlib.figure.Figure at 0x3c127d0>"
       ]
      }
     ],
     "prompt_number": 5
    },
    {
     "cell_type": "code",
     "collapsed": false,
     "input": [
      "from webplot import p\n",
      "p.plot(x, y)"
     ],
     "language": "python",
     "metadata": {},
     "outputs": [
      {
       "html": [
        "<div>\n",
        "  \n",
        "  \n",
        "  <script type=\"text/javascript\">\n",
        "    $(function(){      \n",
        "    \n",
        "    var all_models = [{\"attributes\": {\"parent\": {\"type\": \"PlotContext\", \"id\": \"2f12c70a-0911-40bb-a05b-516948a3a3e1\"}, \"doc\": null, \"axes\": [{\"type\": \"LinearAxis\", \"id\": \"fa3dde69-d03f-45fc-9283-d7de0d894276\"}, {\"type\": \"LinearAxis\", \"id\": \"0d2c23e4-7cde-4a33-8efe-162c271ffcc1\"}], \"renderers\": [{\"type\": \"ScatterRenderer\", \"id\": \"f8a357b4-df57-4513-bcd6-be0583262ea1\"}, {\"type\": \"LineRenderer\", \"id\": \"ce2df133-673b-41c7-a1d1-1d2bb0273a8a\"}], \"height\": 300, \"width\": 300, \"overlays\": [{\"type\": \"BoxSelectionOverlay\", \"id\": \"23a22554-7c27-4bfd-9777-e8cc40e989e2\"}], \"tools\": [{\"type\": \"PanTool\", \"id\": \"d11647b2-b329-4276-958f-bb1df38a1500\"}, {\"type\": \"ZoomTool\", \"id\": \"3bff3592-d076-4156-8ab6-2ed51b8bb0ca\"}, {\"type\": \"SelectionTool\", \"id\": \"231820bd-86fa-4633-8f43-e64423ee4882\"}], \"id\": \"fe95f05d-eea5-47cc-9dbb-31411266d993\"}, \"type\": \"Plot\", \"id\": \"fe95f05d-eea5-47cc-9dbb-31411266d993\"}, {\"attributes\": {\"sources\": [{\"ref\": {\"type\": \"ObjectArrayDataSource\", \"id\": \"b018d7e8-dfd6-4dc9-a9dc-efa5819e54c2\"}, \"columns\": [\"x\"]}], \"id\": \"a3cd25ae-8c5c-42b0-af21-29e517bf0478\", \"doc\": null}, \"type\": \"DataRange1d\", \"id\": \"a3cd25ae-8c5c-42b0-af21-29e517bf0478\"}, {\"attributes\": {\"sources\": [{\"ref\": {\"type\": \"ObjectArrayDataSource\", \"id\": \"b018d7e8-dfd6-4dc9-a9dc-efa5819e54c2\"}, \"columns\": [\"y\"]}], \"id\": \"4282358f-e6ec-4da4-ba2c-39e53802fa83\", \"doc\": null}, \"type\": \"DataRange1d\", \"id\": \"4282358f-e6ec-4da4-ba2c-39e53802fa83\"}, {\"attributes\": {\"doc\": null, \"dataranges\": [{\"type\": \"DataRange1d\", \"id\": \"a3cd25ae-8c5c-42b0-af21-29e517bf0478\"}, {\"type\": \"DataRange1d\", \"id\": \"4282358f-e6ec-4da4-ba2c-39e53802fa83\"}], \"dimensions\": [\"width\", \"height\"], \"id\": \"d11647b2-b329-4276-958f-bb1df38a1500\"}, \"type\": \"PanTool\", \"id\": \"d11647b2-b329-4276-958f-bb1df38a1500\"}, {\"attributes\": {\"doc\": null, \"dataranges\": [{\"type\": \"DataRange1d\", \"id\": \"a3cd25ae-8c5c-42b0-af21-29e517bf0478\"}, {\"type\": \"DataRange1d\", \"id\": \"4282358f-e6ec-4da4-ba2c-39e53802fa83\"}], \"dimensions\": [\"width\", \"height\"], \"id\": \"3bff3592-d076-4156-8ab6-2ed51b8bb0ca\"}, \"type\": \"ZoomTool\", \"id\": \"3bff3592-d076-4156-8ab6-2ed51b8bb0ca\"}, {\"attributes\": {\"doc\": null, \"renderers\": [{\"type\": \"ScatterRenderer\", \"id\": \"f8a357b4-df57-4513-bcd6-be0583262ea1\"}], \"id\": \"231820bd-86fa-4633-8f43-e64423ee4882\"}, \"type\": \"SelectionTool\", \"id\": \"231820bd-86fa-4633-8f43-e64423ee4882\"}, {\"attributes\": {\"doc\": null, \"tool\": {\"type\": \"SelectionTool\", \"id\": \"231820bd-86fa-4633-8f43-e64423ee4882\"}, \"id\": \"23a22554-7c27-4bfd-9777-e8cc40e989e2\"}, \"type\": \"BoxSelectionOverlay\", \"id\": \"23a22554-7c27-4bfd-9777-e8cc40e989e2\"}, {\"attributes\": {\"orientation\": \"bottom\", \"parent\": {\"type\": \"Plot\", \"id\": \"fe95f05d-eea5-47cc-9dbb-31411266d993\"}, \"doc\": null, \"ticks\": 3, \"data_range\": {\"type\": \"DataRange1d\", \"id\": \"a3cd25ae-8c5c-42b0-af21-29e517bf0478\"}, \"id\": \"fa3dde69-d03f-45fc-9283-d7de0d894276\"}, \"type\": \"LinearAxis\", \"id\": \"fa3dde69-d03f-45fc-9283-d7de0d894276\"}, {\"attributes\": {\"orientation\": \"left\", \"parent\": {\"type\": \"Plot\", \"id\": \"fe95f05d-eea5-47cc-9dbb-31411266d993\"}, \"doc\": null, \"ticks\": 3, \"data_range\": {\"type\": \"DataRange1d\", \"id\": \"4282358f-e6ec-4da4-ba2c-39e53802fa83\"}, \"id\": \"0d2c23e4-7cde-4a33-8efe-162c271ffcc1\"}, \"type\": \"LinearAxis\", \"id\": \"0d2c23e4-7cde-4a33-8efe-162c271ffcc1\"}, {\"attributes\": {\"yfield\": \"y\", \"data_source\": {\"type\": \"ObjectArrayDataSource\", \"id\": \"b018d7e8-dfd6-4dc9-a9dc-efa5819e54c2\"}, \"parent\": {\"type\": \"Plot\", \"id\": \"fe95f05d-eea5-47cc-9dbb-31411266d993\"}, \"doc\": null, \"foreground_color\": \"#1f77b4\", \"xdata_range\": {\"type\": \"DataRange1d\", \"id\": \"a3cd25ae-8c5c-42b0-af21-29e517bf0478\"}, \"ydata_range\": {\"type\": \"DataRange1d\", \"id\": \"4282358f-e6ec-4da4-ba2c-39e53802fa83\"}, \"xfield\": \"x\", \"id\": \"f8a357b4-df57-4513-bcd6-be0583262ea1\"}, \"type\": \"ScatterRenderer\", \"id\": \"f8a357b4-df57-4513-bcd6-be0583262ea1\"}, {\"attributes\": {\"yfield\": \"y\", \"data_source\": {\"type\": \"ObjectArrayDataSource\", \"id\": \"b018d7e8-dfd6-4dc9-a9dc-efa5819e54c2\"}, \"parent\": {\"type\": \"Plot\", \"id\": \"fe95f05d-eea5-47cc-9dbb-31411266d993\"}, \"doc\": null, \"foreground_color\": \"#1f77b4\", \"xdata_range\": {\"type\": \"DataRange1d\", \"id\": \"a3cd25ae-8c5c-42b0-af21-29e517bf0478\"}, \"ydata_range\": {\"type\": \"DataRange1d\", \"id\": \"4282358f-e6ec-4da4-ba2c-39e53802fa83\"}, \"xfield\": \"x\", \"id\": \"ce2df133-673b-41c7-a1d1-1d2bb0273a8a\"}, \"type\": \"LineRenderer\", \"id\": \"ce2df133-673b-41c7-a1d1-1d2bb0273a8a\"}, {\"attributes\": {\"doc\": null, \"data\": [{\"y\": 17.689655172413794, \"x\": 70}, {\"y\": 21.111111111111111, \"x\": 71}, {\"y\": 18.714285714285715, \"x\": 72}, {\"y\": 17.100000000000001, \"x\": 73}, {\"y\": 22.76923076923077, \"x\": 74}, {\"y\": 20.266666666666666, \"x\": 75}, {\"y\": 21.573529411764707, \"x\": 76}, {\"y\": 23.375, \"x\": 77}, {\"y\": 24.061111111111114, \"x\": 78}, {\"y\": 25.093103448275851, \"x\": 79}, {\"y\": 33.803703703703704, \"x\": 80}, {\"y\": 30.185714285714287, \"x\": 81}, {\"y\": 32.0, \"x\": 82}], \"id\": \"b018d7e8-dfd6-4dc9-a9dc-efa5819e54c2\"}, \"type\": \"ObjectArrayDataSource\", \"id\": \"b018d7e8-dfd6-4dc9-a9dc-efa5819e54c2\"}];\n",
        "var modelid = \"fe95f05d-eea5-47cc-9dbb-31411266d993\";\n",
        "var modeltype = \"Plot\";\n",
        "var elementid = \"c7e8721e-2f34-4778-b7d2-7ef9b77b3455\";\n",
        "var view;\n",
        "base = require(\"./base\")\n",
        "console.log(modelid, modeltype, elementid);\n",
        "base.load_models(all_models);\n",
        "var model = base.Collections(modeltype).get(modelid)\n",
        "window.model=model;\n",
        "var view = new model.default_view(\n",
        "    {model : model}\n",
        ");\n",
        "window.view = view;\n",
        "view.render()\n",
        "_.delay(function(){\n",
        "    $('#c7e8721e-2f34-4778-b7d2-7ef9b77b3455').append(view.$el)\n",
        "}, 1000);\n",
        "    \n",
        "    });\n",
        "  </script>\n",
        "  \n",
        "  <div id=\"c7e8721e-2f34-4778-b7d2-7ef9b77b3455\">Plots</div>\n",
        "\n",
        "  \n",
        "</div>"
       ],
       "output_type": "pyout",
       "prompt_number": 6,
       "text": [
        "<bokeh.mpl.XYPlot at 0x4668ad0>"
       ]
      }
     ],
     "prompt_number": 6
    },
    {
     "cell_type": "code",
     "collapsed": false,
     "input": [],
     "language": "python",
     "metadata": {},
     "outputs": []
    }
   ],
   "metadata": {}
  }
 ]
}